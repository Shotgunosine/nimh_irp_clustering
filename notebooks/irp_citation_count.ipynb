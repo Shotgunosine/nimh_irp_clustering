{
 "cells": [
  {
   "cell_type": "code",
   "execution_count": 1,
   "metadata": {},
   "outputs": [],
   "source": [
    "import re\n",
    "import pandas as pd\n",
    "from pathlib import Path\n",
    "import requests\n",
    "from bs4 import BeautifulSoup\n",
    "import seaborn as sns\n",
    "import numpy as np\n",
    "from getpass import getpass"
   ]
  },
  {
   "cell_type": "code",
   "execution_count": 3,
   "metadata": {},
   "outputs": [],
   "source": [
    "persons = pd.read_json('https://osat-api.herokuapp.com/persons').values"
   ]
  },
  {
   "cell_type": "code",
   "execution_count": 10,
   "metadata": {},
   "outputs": [],
   "source": [
    "ids = [pp[0]['id'] for pp in persons]"
   ]
  },
  {
   "cell_type": "code",
   "execution_count": 17,
   "metadata": {},
   "outputs": [],
   "source": [
    "ids[0]\n",
    "person_url_base = 'https://osat-api.herokuapp.com/person/'\n"
   ]
  },
  {
   "cell_type": "code",
   "execution_count": 38,
   "metadata": {},
   "outputs": [
    {
     "ename": "TypeError",
     "evalue": "'<' not supported between instances of 'str' and 'NoneType'",
     "output_type": "error",
     "traceback": [
      "\u001b[0;31m---------------------------------------------------------------------------\u001b[0m",
      "\u001b[0;31mTypeError\u001b[0m                                 Traceback (most recent call last)",
      "\u001b[0;32m<ipython-input-38-12ac24a427af>\u001b[0m in \u001b[0;36m<module>\u001b[0;34m\u001b[0m\n\u001b[1;32m      6\u001b[0m     \u001b[0mdois\u001b[0m\u001b[0;34m.\u001b[0m\u001b[0mextend\u001b[0m\u001b[0;34m(\u001b[0m\u001b[0;34m[\u001b[0m\u001b[0mpa\u001b[0m\u001b[0;34m[\u001b[0m\u001b[0;34m'metadata'\u001b[0m\u001b[0;34m]\u001b[0m\u001b[0;34m[\u001b[0m\u001b[0;34m'doi'\u001b[0m\u001b[0;34m]\u001b[0m \u001b[0;32mfor\u001b[0m \u001b[0mpa\u001b[0m \u001b[0;32min\u001b[0m \u001b[0mres\u001b[0m\u001b[0;34m.\u001b[0m\u001b[0mjson\u001b[0m\u001b[0;34m(\u001b[0m\u001b[0;34m)\u001b[0m\u001b[0;34m[\u001b[0m\u001b[0;34m'papers'\u001b[0m\u001b[0;34m]\u001b[0m\u001b[0;34m]\u001b[0m\u001b[0;34m)\u001b[0m\u001b[0;34m\u001b[0m\u001b[0;34m\u001b[0m\u001b[0m\n\u001b[1;32m      7\u001b[0m \u001b[0mpmids\u001b[0m \u001b[0;34m=\u001b[0m \u001b[0mnp\u001b[0m\u001b[0;34m.\u001b[0m\u001b[0munique\u001b[0m\u001b[0;34m(\u001b[0m\u001b[0mpmids\u001b[0m\u001b[0;34m)\u001b[0m\u001b[0;34m.\u001b[0m\u001b[0mastype\u001b[0m\u001b[0;34m(\u001b[0m\u001b[0mint\u001b[0m\u001b[0;34m)\u001b[0m\u001b[0;34m\u001b[0m\u001b[0;34m\u001b[0m\u001b[0m\n\u001b[0;32m----> 8\u001b[0;31m \u001b[0mdois\u001b[0m \u001b[0;34m=\u001b[0m \u001b[0mnp\u001b[0m\u001b[0;34m.\u001b[0m\u001b[0munique\u001b[0m\u001b[0;34m(\u001b[0m\u001b[0mdois\u001b[0m\u001b[0;34m)\u001b[0m\u001b[0;34m\u001b[0m\u001b[0;34m\u001b[0m\u001b[0m\n\u001b[0m",
      "\u001b[0;32m~/miniconda3/envs/irp_clust/lib/python3.7/site-packages/numpy/lib/arraysetops.py\u001b[0m in \u001b[0;36munique\u001b[0;34m(ar, return_index, return_inverse, return_counts, axis)\u001b[0m\n\u001b[1;32m    231\u001b[0m     \u001b[0mar\u001b[0m \u001b[0;34m=\u001b[0m \u001b[0mnp\u001b[0m\u001b[0;34m.\u001b[0m\u001b[0masanyarray\u001b[0m\u001b[0;34m(\u001b[0m\u001b[0mar\u001b[0m\u001b[0;34m)\u001b[0m\u001b[0;34m\u001b[0m\u001b[0;34m\u001b[0m\u001b[0m\n\u001b[1;32m    232\u001b[0m     \u001b[0;32mif\u001b[0m \u001b[0maxis\u001b[0m \u001b[0;32mis\u001b[0m \u001b[0;32mNone\u001b[0m\u001b[0;34m:\u001b[0m\u001b[0;34m\u001b[0m\u001b[0;34m\u001b[0m\u001b[0m\n\u001b[0;32m--> 233\u001b[0;31m         \u001b[0mret\u001b[0m \u001b[0;34m=\u001b[0m \u001b[0m_unique1d\u001b[0m\u001b[0;34m(\u001b[0m\u001b[0mar\u001b[0m\u001b[0;34m,\u001b[0m \u001b[0mreturn_index\u001b[0m\u001b[0;34m,\u001b[0m \u001b[0mreturn_inverse\u001b[0m\u001b[0;34m,\u001b[0m \u001b[0mreturn_counts\u001b[0m\u001b[0;34m)\u001b[0m\u001b[0;34m\u001b[0m\u001b[0;34m\u001b[0m\u001b[0m\n\u001b[0m\u001b[1;32m    234\u001b[0m         \u001b[0;32mreturn\u001b[0m \u001b[0m_unpack_tuple\u001b[0m\u001b[0;34m(\u001b[0m\u001b[0mret\u001b[0m\u001b[0;34m)\u001b[0m\u001b[0;34m\u001b[0m\u001b[0;34m\u001b[0m\u001b[0m\n\u001b[1;32m    235\u001b[0m \u001b[0;34m\u001b[0m\u001b[0m\n",
      "\u001b[0;32m~/miniconda3/envs/irp_clust/lib/python3.7/site-packages/numpy/lib/arraysetops.py\u001b[0m in \u001b[0;36m_unique1d\u001b[0;34m(ar, return_index, return_inverse, return_counts)\u001b[0m\n\u001b[1;32m    279\u001b[0m         \u001b[0maux\u001b[0m \u001b[0;34m=\u001b[0m \u001b[0mar\u001b[0m\u001b[0;34m[\u001b[0m\u001b[0mperm\u001b[0m\u001b[0;34m]\u001b[0m\u001b[0;34m\u001b[0m\u001b[0;34m\u001b[0m\u001b[0m\n\u001b[1;32m    280\u001b[0m     \u001b[0;32melse\u001b[0m\u001b[0;34m:\u001b[0m\u001b[0;34m\u001b[0m\u001b[0;34m\u001b[0m\u001b[0m\n\u001b[0;32m--> 281\u001b[0;31m         \u001b[0mar\u001b[0m\u001b[0;34m.\u001b[0m\u001b[0msort\u001b[0m\u001b[0;34m(\u001b[0m\u001b[0;34m)\u001b[0m\u001b[0;34m\u001b[0m\u001b[0;34m\u001b[0m\u001b[0m\n\u001b[0m\u001b[1;32m    282\u001b[0m         \u001b[0maux\u001b[0m \u001b[0;34m=\u001b[0m \u001b[0mar\u001b[0m\u001b[0;34m\u001b[0m\u001b[0;34m\u001b[0m\u001b[0m\n\u001b[1;32m    283\u001b[0m     \u001b[0mmask\u001b[0m \u001b[0;34m=\u001b[0m \u001b[0mnp\u001b[0m\u001b[0;34m.\u001b[0m\u001b[0mempty\u001b[0m\u001b[0;34m(\u001b[0m\u001b[0maux\u001b[0m\u001b[0;34m.\u001b[0m\u001b[0mshape\u001b[0m\u001b[0;34m,\u001b[0m \u001b[0mdtype\u001b[0m\u001b[0;34m=\u001b[0m\u001b[0mnp\u001b[0m\u001b[0;34m.\u001b[0m\u001b[0mbool_\u001b[0m\u001b[0;34m)\u001b[0m\u001b[0;34m\u001b[0m\u001b[0;34m\u001b[0m\u001b[0m\n",
      "\u001b[0;31mTypeError\u001b[0m: '<' not supported between instances of 'str' and 'NoneType'"
     ]
    }
   ],
   "source": [
    "pmids = []\n",
    "dois = []\n",
    "for pid in ids:\n",
    "    res = requests.get(person_url_base + pid)\n",
    "    pmids.extend([pa['pmid'] for pa in res.json()['papers']])\n",
    "    dois.extend([pa['metadata']['doi'] for pa in res.json()['papers']])\n",
    "pmids = np.unique(pmids).astype(int)\n",
    "dois = np.unique(dois)"
   ]
  },
  {
   "cell_type": "code",
   "execution_count": 37,
   "metadata": {},
   "outputs": [
    {
     "data": {
      "text/plain": [
       "[{'metadata': {'abstract': 'Recent \"representational\" accounts suggest a key role for the hippocampus in complex scene perception. Due to limitations in scanner field strength, however, the functional neuroanatomy of hippocampal-dependent scene perception is unknown. Here, we applied 7 T high-resolution functional magnetic resonance imaging (fMRI) alongside a perceptual oddity task, modified from nonhuman primate studies. This task requires subjects to discriminate highly similar scenes, faces, or objects from multiple viewpoints, and has revealed selective impairments during scene discrimination following hippocampal lesions. Region-of-interest analyses identified a preferential response in the subiculum subfield of the hippocampus during scene, but not face or object, discriminations. Notably, this effect was in the anteromedial subiculum and was not modulated by whether scenes were subsequently remembered or forgotten. These results highlight the value of ultra-high-field fMRI in generating more refined, anatomically informed, functional accounts of hippocampal contributions to cognition, and a unique role for the human subiculum in discrimination of complex scenes from different viewpoints.SIGNIFICANCE STATEMENT There is increasing evidence that the human hippocampus supports functions beyond just episodic memory, with human lesion studies suggesting a contribution to the perceptual processing of navigationally relevant, complex scenes. While the hippocampus itself contains several small, functionally distinct subfields, examining the role of these in scene processing has been previously limited by scanner field strength. By applying ultra-high-resolution 7 T fMRI, we delineated the functional contribution of individual hippocampal subfields during a perceptual discrimination task for scenes, faces, and objects. This demonstrated that the discrimination of scenes, relative to faces and objects, recruits the anterior subicular region of the hippocampus, regardless of whether scenes were subsequently remembered or forgotten.',\n",
       "   'authors': 'Hodgetts CJ, Voets NL, Thomas AG, Clare S, Lawrence AD, Graham KS.',\n",
       "   'doi': '10.1523/jneurosci.3225-16.2017',\n",
       "   'journal': 'The Journal of neuroscience : the official journal of the Society for Neuroscience',\n",
       "   'pmcid': 'PMC5373110',\n",
       "   'pubmed_url': 'https://www.ncbi.nlm.nih.gov/pubmed/28213445',\n",
       "   'title': 'Ultra-High-Field fMRI Reveals a Role for the Subiculum in Scene Perceptual Discrimination.',\n",
       "   'year': '2017'},\n",
       "  'open_status': {'code': 'closed', 'data': 'closed', 'paper': 'open'},\n",
       "  'pmid': '28213445'},\n",
       " {'metadata': {'abstract': 'The hippocampus has been shown to demonstrate a remarkable degree of plasticity in response to a variety of tasks and experiences. For example, the size of the human hippocampus has been shown to increase in response to aerobic exercise. However, it is currently unknown what underlies these changes. Here we scanned sedentary, young to middle-aged human adults before and after a six-week exercise intervention using nine different neuroimaging measures of brain structure, vasculature, and diffusion. We then tested two different hypotheses regarding the nature of the underlying changes in the tissue. Surprisingly, we found no evidence of a vascular change as has been previously reported. Rather, the pattern of changes is better explained by an increase in myelination. Finally, we show that hippocampal volume increase is temporary, returning to baseline after an additional six weeks without aerobic exercise. This is the first demonstration of a change in hippocampal volume in early to middle adulthood suggesting that hippocampal volume is modulated by aerobic exercise throughout the lifespan rather than only in the presence of age related atrophy. It is also the first demonstration of hippocampal volume change over a period of only six weeks, suggesting that gross morphometric hippocampal plasticity occurs faster than previously thought.',\n",
       "   'authors': 'Thomas AG, Dennis A, Rawlings NB, Stagg CJ, Matthews L, Morris M, Kolind SH, Foxley S, Jenkinson M, Nichols TE, Dawes H, Bandettini PA, Johansen-Berg H.',\n",
       "   'doi': '10.1016/j.neuroimage.2015.10.090',\n",
       "   'journal': 'NeuroImage',\n",
       "   'pmcid': 'PMC4848119',\n",
       "   'pubmed_url': 'https://www.ncbi.nlm.nih.gov/pubmed/26654786',\n",
       "   'title': 'Multi-modal characterization of rapid anterior hippocampal volume increase associated with aerobic exercise.',\n",
       "   'year': '2016'},\n",
       "  'open_status': {'code': 'closed', 'data': 'closed', 'paper': 'open'},\n",
       "  'pmid': '26654786'},\n",
       " {'metadata': {'abstract': 'Mixed effects models provide significant advantages in sensitivity and flexibility over typical statistical approaches to neural data analysis, but mass univariate application of mixed effects models to large neural datasets is computationally intensive. Threshold free cluster enhancement also provides a significant increase in sensitivity, but requires computationally-intensive permutation-based significance testing. Not surprisingly, the combination of mixed effects models with threshold free cluster enhancement and nonparametric permutation-based significance testing is currently completely impractical. With mixed effects for large datasets (MELD) we circumvent this impasse by means of a singular value decomposition to reduce the dimensionality of neural data while maximizing signal. Singular value decompositions become unstable when there are large numbers of noise features, so we precede it with a bootstrap-based feature selection step employing threshold free cluster enhancement to identify stable features across subjects. By projecting the dependent data into the reduced space of the singular value decomposition we gain the power of a multivariate approach and we can greatly reduce the number of mixed effects models that need to be run, making it feasible to use permutation testing to determine feature level significance. Due to these innovations, MELD is much faster than an element-wise mixed effects analysis, and on simulated data MELD was more sensitive than standard techniques, such as element-wise t-tests combined with threshold-free cluster enhancement. When evaluated on an EEG dataset, MELD identified more significant features than the t-tests with threshold free cluster enhancement in a comparable amount of time.',\n",
       "   'authors': 'Nielson DM, Sederberg PB.',\n",
       "   'doi': '10.1371/journal.pone.0182797',\n",
       "   'journal': 'PloS one',\n",
       "   'pmcid': 'PMC5567894',\n",
       "   'pubmed_url': 'https://www.ncbi.nlm.nih.gov/pubmed/28829807',\n",
       "   'title': 'MELD: Mixed effects for large datasets.',\n",
       "   'year': '2017'},\n",
       "  'open_status': {'code': 'open', 'data': 'embargo', 'paper': 'open'},\n",
       "  'pmid': '28829807'},\n",
       " {'metadata': {'abstract': 'Reproducible research is a key element of the scientific process. Re-executability of neuroimaging workflows that lead to the conclusions arrived at in the literature has not yet been sufficiently addressed and adopted by the neuroimaging community. In this paper, we document a set of procedures, which include supplemental additions to a manuscript, that unambiguously define the data, workflow, execution environment and results of a neuroimaging analysis, in order to generate a verifiable re-executable publication. Re-executability provides a starting point for examination of the generalizability and reproducibility of a given finding.',\n",
       "   'authors': 'Ghosh SS, Poline JB, Keator DB, Halchenko YO, Thomas AG, Kessler DA, Kennedy DN.',\n",
       "   'doi': '10.12688/f1000research.10783.2',\n",
       "   'journal': 'F1000Research',\n",
       "   'pmcid': 'PMC5516225',\n",
       "   'pubmed_url': 'https://www.ncbi.nlm.nih.gov/pubmed/28781753',\n",
       "   'title': 'A very simple, re-executable neuroimaging publication.',\n",
       "   'year': '2017'},\n",
       "  'open_status': {'code': 'open', 'data': 'open', 'paper': 'open'},\n",
       "  'pmid': '28781753'}]"
      ]
     },
     "execution_count": 37,
     "metadata": {},
     "output_type": "execute_result"
    }
   ],
   "source": [
    "res.json()['papers']"
   ]
  },
  {
   "cell_type": "code",
   "execution_count": 34,
   "metadata": {},
   "outputs": [],
   "source": [
    "pmids = np.unique(pmids)"
   ]
  },
  {
   "cell_type": "code",
   "execution_count": 35,
   "metadata": {},
   "outputs": [],
   "source": [
    "with open('../data/osdash_pmids.txt', 'w') as h:\n",
    "    pmids.tofile(h, sep='\\n', format=\"%d\")"
   ]
  },
  {
   "cell_type": "code",
   "execution_count": 45,
   "metadata": {},
   "outputs": [
    {
     "name": "stdout",
     "output_type": "stream",
     "text": [
      "0, 10, 20, 30, 40, 50, 60, 70, 80, 90, 100, 110, 120, 130, 140, 150, 160, 170, 180, 190, 200, 210, 220, 230, 240, 250, 260, 270, 280, 290, 300, 310, 320, 330, 340, 350, 360, 370, 380, 390, 400, 410, 420, 430, 440, 450, 460, 470, 480, 490, 500, 510, 520, 530, 540, 550, 560, 570, 580, 590, 600, 610, 620, 630, 640, 650, 660, 670, 680, 690, 700, 710, 720, 730, 740, 750, 760, 770, 780, 790, 800, 810, 820, 830, 840, 850, 860, 870, 880, 890, 900, 910, 920, 930, 940, 950, 960, 970, 980, 990, 1000, 1010, 1020, 1030, 1040, 1050, 1060, 1070, 1080, 1090, 1100, 1110, 1120, 1130, 1140, 1150, 1160, 1170, 1180, 1190, 1200, 1210, 1220, 1230, 1240, 1250, 1260, 1270, "
     ]
    }
   ],
   "source": [
    "apikey=getpass()\n",
    "scop_jsons = []\n",
    "for ii, pmid in enumerate(pmids):\n",
    "    scopus_search_url = f'https://api.elsevier.com/content/search/scopus?query=PMID({pmid})&apiKey={apikey}'\n",
    "    with requests.get(scopus_search_url) as res:\n",
    "        scop_jsons.append(res.json())\n",
    "    if ii % 10 == 0:\n",
    "        print(ii, end=', ', flush=True)"
   ]
  },
  {
   "cell_type": "code",
   "execution_count": 76,
   "metadata": {},
   "outputs": [
    {
     "data": {
      "text/plain": [
       "dict_keys(['search-results'])"
      ]
     },
     "execution_count": 76,
     "metadata": {},
     "output_type": "execute_result"
    }
   ],
   "source": [
    "scop_jsons[0]"
   ]
  },
  {
   "cell_type": "code",
   "execution_count": 65,
   "metadata": {},
   "outputs": [
    {
     "data": {
      "text/plain": [
       "1117"
      ]
     },
     "execution_count": 65,
     "metadata": {},
     "output_type": "execute_result"
    }
   ],
   "source": [
    "(np.array([int(sj['search-results']['opensearch:itemsPerPage']) for sj in scop_jsons])==1).sum()"
   ]
  },
  {
   "cell_type": "code",
   "execution_count": 78,
   "metadata": {},
   "outputs": [
    {
     "data": {
      "text/plain": [
       "{'@_fa': 'true',\n",
       " 'link': [{'@_fa': 'true',\n",
       "   '@ref': 'self',\n",
       "   '@href': 'https://api.elsevier.com/content/abstract/scopus_id/84856102195'},\n",
       "  {'@_fa': 'true',\n",
       "   '@ref': 'author-affiliation',\n",
       "   '@href': 'https://api.elsevier.com/content/abstract/scopus_id/84856102195?field=author,affiliation'},\n",
       "  {'@_fa': 'true',\n",
       "   '@ref': 'scopus',\n",
       "   '@href': 'https://www.scopus.com/inward/record.uri?partnerID=HzOxMe3b&scp=84856102195&origin=inward'},\n",
       "  {'@_fa': 'true',\n",
       "   '@ref': 'scopus-citedby',\n",
       "   '@href': 'https://www.scopus.com/inward/citedby.uri?partnerID=HzOxMe3b&scp=84856102195&origin=inward'},\n",
       "  {'@_fa': 'true',\n",
       "   '@ref': 'full-text',\n",
       "   '@href': 'https://api.elsevier.com/content/article/eid/1-s2.0-S0028390811000256'}],\n",
       " 'prism:url': 'https://api.elsevier.com/content/abstract/scopus_id/84856102195',\n",
       " 'dc:identifier': 'SCOPUS_ID:84856102195',\n",
       " 'eid': '2-s2.0-84856102195',\n",
       " 'dc:title': 'GABAergic interneuron origin of schizophrenia pathophysiology',\n",
       " 'dc:creator': 'Nakazawa K.',\n",
       " 'prism:publicationName': 'Neuropharmacology',\n",
       " 'prism:issn': '00283908',\n",
       " 'prism:eIssn': '18737064',\n",
       " 'prism:volume': '62',\n",
       " 'prism:issueIdentifier': '3',\n",
       " 'prism:pageRange': '1574-1583',\n",
       " 'prism:coverDate': '2012-03-01',\n",
       " 'prism:coverDisplayDate': 'March 2012',\n",
       " 'prism:doi': '10.1016/j.neuropharm.2011.01.022',\n",
       " 'pii': 'S0028390811000256',\n",
       " 'citedby-count': '206',\n",
       " 'affiliation': [{'@_fa': 'true',\n",
       "   'affilname': 'National Institute of Mental Health',\n",
       "   'affiliation-city': 'Bethesda',\n",
       "   'affiliation-country': 'United States'}],\n",
       " 'pubmed-id': '21277876',\n",
       " 'prism:aggregationType': 'Journal',\n",
       " 'subtype': 're',\n",
       " 'subtypeDescription': 'Review',\n",
       " 'source-id': '20435',\n",
       " 'openaccess': '0',\n",
       " 'openaccessFlag': False}"
      ]
     },
     "execution_count": 78,
     "metadata": {},
     "output_type": "execute_result"
    }
   ],
   "source": [
    "scop_jsons[0]['search-results']['entry'][0]"
   ]
  },
  {
   "cell_type": "code",
   "execution_count": 81,
   "metadata": {},
   "outputs": [],
   "source": [
    "sjks = ['@_fa', 'prism:url', 'dc:identifier', 'eid', 'dc:title',\n",
    "        'dc:creator', 'prism:publicationName', 'prism:issn', 'prism:eIssn',\n",
    "        'prism:volume', 'prism:issueIdentifier', 'prism:pageRange', \n",
    "        'prism:coverDate', 'prism:coverDisplayDate', 'prism:doi', \n",
    "        'pii', 'citedby-count', 'pubmed-id', \n",
    "        'prism:aggregationType', 'subtype', 'subtypeDescription', \n",
    "        'source-id', 'openaccess', 'openaccessFlag']\n",
    "scop_df = []\n",
    "for sj in scop_jsons:\n",
    "    sj_dict = {}\n",
    "    for sjk in sjks:\n",
    "        try:\n",
    "            sj_dict[sjk] = sj['search-results']['entry'][0][sjk]\n",
    "        except KeyError:\n",
    "            pass\n",
    "    scop_df.append(sj_dict)   \n",
    "    \n",
    "    "
   ]
  },
  {
   "cell_type": "code",
   "execution_count": 87,
   "metadata": {},
   "outputs": [],
   "source": [
    "scop_df = pd.DataFrame(scop_df)\n",
    "scop_df.to_csv('../data/scopus_cit_counts.csv', index=False)"
   ]
  },
  {
   "cell_type": "code",
   "execution_count": 92,
   "metadata": {},
   "outputs": [],
   "source": [
    "scop_df.loc[pd.notnull(scop_df['citedby-count']), 'citedby-count'] = scop_df.loc[pd.notnull(scop_df['citedby-count']), 'citedby-count'].astype(int)"
   ]
  },
  {
   "cell_type": "code",
   "execution_count": 94,
   "metadata": {},
   "outputs": [],
   "source": [
    "scop_df.sort_values('citedby-count', ascending=False).to_csv('../data/scopus_cit_counts.csv', index=False)\n"
   ]
  },
  {
   "cell_type": "code",
   "execution_count": 95,
   "metadata": {},
   "outputs": [],
   "source": []
  },
  {
   "cell_type": "code",
   "execution_count": 96,
   "metadata": {},
   "outputs": [
    {
     "name": "stdout",
     "output_type": "stream",
     "text": [
      "········\n"
     ]
    }
   ],
   "source": []
  },
  {
   "cell_type": "code",
   "execution_count": 43,
   "metadata": {},
   "outputs": [],
   "source": []
  },
  {
   "cell_type": "code",
   "execution_count": 44,
   "metadata": {},
   "outputs": [
    {
     "data": {
      "text/plain": [
       "[{'search-results': {'opensearch:totalResults': '0',\n",
       "   'opensearch:startIndex': '0',\n",
       "   'opensearch:itemsPerPage': '0',\n",
       "   'opensearch:Query': {'@role': 'request',\n",
       "    '@searchTerms': 'PMID(5684567865835673456745)',\n",
       "    '@startPage': '0'},\n",
       "   'link': [{'@_fa': 'true',\n",
       "     '@ref': 'self',\n",
       "     '@href': 'https://api.elsevier.com/content/search/scopus?start=0&count=25&query=PMID%285684567865835673456745%29&apiKey=7f59af901d2d86f78a1fd60c1bf9426a',\n",
       "     '@type': 'application/json'}],\n",
       "   'entry': [{'@_fa': 'true', 'error': 'Result set was empty'}]}}]"
      ]
     },
     "execution_count": 44,
     "metadata": {},
     "output_type": "execute_result"
    }
   ],
   "source": [
    "scop_jsons"
   ]
  },
  {
   "cell_type": "code",
   "execution_count": null,
   "metadata": {},
   "outputs": [],
   "source": []
  }
 ],
 "metadata": {
  "kernelspec": {
   "display_name": "Python 3",
   "language": "python",
   "name": "python3"
  },
  "language_info": {
   "codemirror_mode": {
    "name": "ipython",
    "version": 3
   },
   "file_extension": ".py",
   "mimetype": "text/x-python",
   "name": "python",
   "nbconvert_exporter": "python",
   "pygments_lexer": "ipython3",
   "version": "3.7.1"
  }
 },
 "nbformat": 4,
 "nbformat_minor": 2
}
